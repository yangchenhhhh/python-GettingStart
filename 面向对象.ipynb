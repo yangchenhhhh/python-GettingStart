{
 "cells": [
  {
   "cell_type": "markdown",
   "metadata": {},
   "source": [
    "## 哲♂学——万物皆对象 everything is object\n",
    "**1.万物皆对象**\n",
    "\n",
    "**2.对象皆有类型**\n",
    "\n",
    "**3.程序由一堆对象组成，对象间通过发送消息协同工作**\n",
    "\n",
    "**4.每个对象都有自己的存储空间，并由其他对象构成**\n",
    "\n",
    "**5.相同类型的对象可以接受相同类型的消息**"
   ]
  },
  {
   "cell_type": "markdown",
   "metadata": {},
   "source": [
    "#### 函数是对象"
   ]
  },
  {
   "cell_type": "code",
   "execution_count": 8,
   "metadata": {},
   "outputs": [
    {
     "name": "stdout",
     "output_type": "stream",
     "text": [
      "<class 'function'> <function foo at 0x0000025B779C4558>\n",
      "function foo\n",
      "4\n"
     ]
    }
   ],
   "source": [
    "def foo(x):\n",
    "    'function foo'\n",
    "    return x*x\n",
    "func =foo\n",
    "print(type(foo),foo)\n",
    "print(foo.__doc__)\n",
    "print(func(2))"
   ]
  },
  {
   "cell_type": "markdown",
   "metadata": {},
   "source": [
    "#### 类是对象 （当然，类也可以实例化为对象）\n",
    "通俗的讲，人是对象，人这个概念也是对象"
   ]
  },
  {
   "cell_type": "code",
   "execution_count": 9,
   "metadata": {},
   "outputs": [
    {
     "name": "stdout",
     "output_type": "stream",
     "text": [
      "<class 'type'> <class '__main__.A'>\n",
      "class A\n",
      "A is init\n",
      "method 1 ok\n"
     ]
    }
   ],
   "source": [
    "class A:\n",
    "    'class A'\n",
    "    def __init__(self):\n",
    "        print('A is init')\n",
    "    def method1(self):\n",
    "        print('method 1 ok')\n",
    "print(type(A),A)\n",
    "print(A.__doc__)\n",
    "A2 =A\n",
    "a2 = A2()\n",
    "a2.method1()"
   ]
  },
  {
   "cell_type": "markdown",
   "metadata": {},
   "source": [
    "### 类属性&实例属性\n",
    "**类属性**是“类class”作为一个对象所有的。 ` Tomato.objectCount`\n",
    "这个属性不是类对象（下文的T1，T2）的属性，而是类Tomato的属性。\n",
    "\n",
    "**实例属性**是某个类下面每个对象各自拥有的`T1.objectCount`  \n",
    "当访问`T1.objectCount`，没有实例属性，将寻找所属类属性`Tomato.objectCount`\n",
    "\n",
    "**`def smile():`**   \n",
    "没有self此函数不依赖对象，和具体哪一个西红柿没关系  \n",
    "由于这个smile不依赖对象，可以视为一种类。  \n",
    "但注意和真正类的区别。这个smile只是Tomato的smile，前面加了一个前缀，大大提**可读性**"
   ]
  },
  {
   "cell_type": "code",
   "execution_count": 21,
   "metadata": {},
   "outputs": [
    {
     "name": "stdout",
     "output_type": "stream",
     "text": [
      "tomato.smile(): without self parameter.\n",
      "Tomato.objectCount: 2\n",
      "T1.objectCount: 3\n"
     ]
    }
   ],
   "source": [
    "class Tomato:\n",
    "    objectCount = 0#类属性。这个属性不是类对象（下文的T1，T2）的属性，而是类Tomato的属性，有且仅有一个\n",
    "    def smile():\n",
    "    #没有self，此函数不依赖对象，和具体哪一个西红柿没关系\n",
    "    #这个smile不依赖对象，可以视为一种类。但注意和真正类的区别。这个smile只是Tomato的smile，前面加了一个前缀，大大提高程序的可读性\n",
    "        print('tomato.smile(): without self parameter.')\n",
    "    def __init__(self):\n",
    "        Tomato.objectCount += 1#这是给Tomato这个类加属性\n",
    "        #self.nbjectCount = 1是给具体的西红柿对象加属性\n",
    "        a = self.objectCount #self一个实例对象没有objectCount属性，自动寻找类属性\n",
    "        self.objectCount = 3 #此时实例对象将真正创建自己的实例属性\n",
    "\n",
    "Tomato.smile()#没有对象，Tomato只是类\n",
    "T1 = Tomato()\n",
    "T2 = Tomato()\n",
    "print('Tomato.objectCount:',Tomato.objectCount)\n",
    "print('T1.objectCount:',T1.objectCount)#T1没有objectCount属性，自动寻找所属类的属性objectCount"
   ]
  }
 ],
 "metadata": {
  "kernelspec": {
   "display_name": "tensorflow_env",
   "language": "python",
   "name": "tensorflow-env"
  },
  "language_info": {
   "codemirror_mode": {
    "name": "ipython",
    "version": 3
   },
   "file_extension": ".py",
   "mimetype": "text/x-python",
   "name": "python",
   "nbconvert_exporter": "python",
   "pygments_lexer": "ipython3",
   "version": "3.7.7"
  }
 },
 "nbformat": 4,
 "nbformat_minor": 4
}

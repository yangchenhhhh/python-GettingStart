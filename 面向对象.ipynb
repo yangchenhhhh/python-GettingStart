{
 "cells": [
  {
   "cell_type": "markdown",
   "metadata": {},
   "source": [
    "## 哲♂学——万物皆对象 everything is object\n",
    "**1.万物皆对象**\n",
    "\n",
    "**2.对象皆有类型**\n",
    "\n",
    "**3.程序由一堆对象组成，对象间通过发送消息协同工作**\n",
    "\n",
    "**4.每个对象都有自己的存储空间，并由其他对象构成**\n",
    "\n",
    "**5.相同类型的对象可以接受相同类型的消息**"
   ]
  },
  {
   "cell_type": "markdown",
   "metadata": {},
   "source": [
    "#### 函数是对象"
   ]
  },
  {
   "cell_type": "code",
   "execution_count": 8,
   "metadata": {},
   "outputs": [
    {
     "name": "stdout",
     "output_type": "stream",
     "text": [
      "<class 'function'> <function foo at 0x0000025B779C4558>\n",
      "function foo\n",
      "4\n"
     ]
    }
   ],
   "source": [
    "def foo(x):\n",
    "    'function foo'\n",
    "    return x*x\n",
    "func =foo\n",
    "print(type(foo),foo)\n",
    "print(foo.__doc__)\n",
    "print(func(2))"
   ]
  },
  {
   "cell_type": "markdown",
   "metadata": {},
   "source": [
    "#### 类是对象 （当然，类也可以实例化为对象）\n",
    "通俗的讲，人是对象，人这个概念也是对象"
   ]
  },
  {
   "cell_type": "code",
   "execution_count": 9,
   "metadata": {},
   "outputs": [
    {
     "name": "stdout",
     "output_type": "stream",
     "text": [
      "<class 'type'> <class '__main__.A'>\n",
      "class A\n",
      "A is init\n",
      "method 1 ok\n"
     ]
    }
   ],
   "source": [
    "class A:\n",
    "    'class A'\n",
    "    def __init__(self):\n",
    "        print('A is init')\n",
    "    def method1(self):\n",
    "        print('method 1 ok')\n",
    "print(type(A),A)\n",
    "print(A.__doc__)\n",
    "A2 =A\n",
    "a2 = A2()\n",
    "a2.method1()"
   ]
  },
  {
   "cell_type": "markdown",
   "metadata": {},
   "source": [
    "### 类属性&实例属性"
   ]
  },
  {
   "cell_type": "code",
   "execution_count": null,
   "metadata": {},
   "outputs": [],
   "source": []
  }
 ],
 "metadata": {
  "kernelspec": {
   "display_name": "tensorflow_env",
   "language": "python",
   "name": "tensorflow-env"
  },
  "language_info": {
   "codemirror_mode": {
    "name": "ipython",
    "version": 3
   },
   "file_extension": ".py",
   "mimetype": "text/x-python",
   "name": "python",
   "nbconvert_exporter": "python",
   "pygments_lexer": "ipython3",
   "version": "3.7.7"
  }
 },
 "nbformat": 4,
 "nbformat_minor": 4
}

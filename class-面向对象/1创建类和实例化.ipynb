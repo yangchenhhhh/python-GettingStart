{
 "cells": [
  {
   "cell_type": "markdown",
   "metadata": {},
   "source": [
    "# class创建实例化   class等价于c中的struct"
   ]
  },
  {
   "cell_type": "markdown",
   "metadata": {},
   "source": [
    "class 类 -data type （eg.str，int...\n",
    "\n",
    "object 对象 - insitance -实例\n",
    "p1=person() i = 3 s = 'string' \n",
    "\n",
    "属性-attribute 数据成员 - data member\n",
    "person：：sname\n",
    "\n",
    "方法 method 成员函数 member function\n",
    "person：：speak（） eat（）   int.to_bytes() list.sort()\n",
    "\n",
    "发送消息\n",
    "p1 = person（）\n",
    "p1.eat()\n",
    "\n",
    "\n",
    "class person(): \n",
    "    #...\n",
    "    pass\n",
    "\n",
    "pp1 = person()\n",
    "a = int(3)#这两行都是创建对象，只不过上面是自己定义的类型，下面是python内置类型"
   ]
  },
  {
   "cell_type": "code",
   "execution_count": 2,
   "metadata": {},
   "outputs": [
    {
     "name": "stdout",
     "output_type": "stream",
     "text": [
      "这是一个说明document,user defined class : person\n"
     ]
    }
   ],
   "source": [
    "# define a class\n",
    "#self源自于myself，当我们执行一个动作时，需要指定谁（self），完成什么动作self.动作\n",
    "#self表面当前函数在那个对象上执行。隐式传递\n",
    "from enum import Enum #Enum是一个类型，从enum中导入\n",
    "import numpy as np\n",
    "class gender(Enum):#继承语法 inherition\n",
    "    male = 0\n",
    "    female = 1\n",
    "class person:\n",
    "    \"这是一个说明document,user defined class : person\"\n",
    "    #如果想创建一个对象，该对象会执行构造函数完成初始化\n",
    "    def __init__(self, idno='N/A',name='N/A'):\n",
    "    #一个构造函数，__init__有两个下划线，避免user重复命名\n",
    "    #N/A是not available值没有给，默认参数\n",
    "        self.sname = name#这个人的名字\n",
    "        self.gender = gender.male#这个人的性别,from class 'gender'\n",
    "        self.sid = idno\n",
    "        self.iweight = 0\n",
    "    \n",
    "    def speak(self):\n",
    "        print(\"person::speak():\")\n",
    "        print('i am',self.sname+',','nice to meet you')\n",
    "    \n",
    "    def eat(self,weight):\n",
    "        self.iweight += weight\n",
    "        print('i just eat', weight,'gram food.','i am',self.iweight,'gram now')\n",
    "    \n",
    "    def description(self):\n",
    "        assert self.gender in (gender.female, gender.male)#assert 断言语法，如果写错了会提示\n",
    "        s = 'id: %s \\t name: %s\\n'%(self.sid,self.sname)\n",
    "        #t = 'gender: %s\\tbody weight: %d'% ('male' if self.gender==)\n",
    "        return s\n",
    "print(person.__doc__)#person.__doc__是class中的说明书“”里的内容"
   ]
  },
  {
   "cell_type": "markdown",
   "metadata": {},
   "source": [
    "## enum作用"
   ]
  },
  {
   "cell_type": "code",
   "execution_count": 3,
   "metadata": {},
   "outputs": [
    {
     "name": "stdout",
     "output_type": "stream",
     "text": [
      "she\n",
      "male\n"
     ]
    }
   ],
   "source": [
    "#需要完成一个任务，判断男性还是女性\n",
    "\n",
    "#solution1, if\n",
    "#存在问题，字符串比较需要逐个slow。容易记错\n",
    "a = 'male'#很早以前付过值\n",
    "#...\n",
    "if a == 'Male':#过了一个月想判断是男是女，忘记male还是Male\n",
    "    print('he')\n",
    "else:\n",
    "    print('she')\n",
    "#需要完成一个任务，判断男性还是女性\n",
    "\n",
    "#solution2\n",
    "\n",
    "a = 0 # 0 for male 1for female\n",
    "#...过了一段时间\n",
    "if a == 0 :#需要判断，但是忘了0代表男还是女\n",
    "    print('male')\n",
    "else:\n",
    "    print('female')\n",
    "#solution 3 \n",
    "#更好的方法是为这样的枚举类型定义一个class类型，然后，每个常量都是class的一个唯一实例。Python提供了Enum类来实现这个功\n",
    "#开头的class gender(Enum):"
   ]
  },
  {
   "cell_type": "markdown",
   "metadata": {},
   "source": [
    "## 将class实例化"
   ]
  },
  {
   "cell_type": "code",
   "execution_count": 5,
   "metadata": {},
   "outputs": [
    {
     "name": "stdout",
     "output_type": "stream",
     "text": [
      "gender.male wang xiao\n",
      "i just eat 2 gram food. i am 2 gram now\n",
      "id: 330122 \t name: wang xiao\n",
      "\n"
     ]
    },
    {
     "data": {
      "text/plain": [
       "'chenyang'"
      ]
     },
     "execution_count": 5,
     "metadata": {},
     "output_type": "execute_result"
    }
   ],
   "source": [
    "#实例化对象create an object\n",
    "#同一个类型的不同对象间属性是独立的，但是方法是共享的\n",
    "yangchen = person(\"330327\",\"chenyang\")\n",
    "wang = person('330122','wang xiao')\n",
    "print(yangchen.gender,wang.sname)\n",
    "wang.gender = gender.female\n",
    "wang.eat(2) # same as \"person.eat(wang,1)显式传递一般不用\"\n",
    "print(wang.description())"
   ]
  },
  {
   "cell_type": "markdown",
   "metadata": {},
   "source": [
    "## 封装&继承"
   ]
  },
  {
   "cell_type": "markdown",
   "metadata": {},
   "source": []
  },
  {
   "cell_type": "code",
   "execution_count": null,
   "metadata": {},
   "outputs": [],
   "source": [
    "#复用\n",
    "\n",
    "#接口 interface 只需要考虑接口，接口内部不需要考虑\n",
    "#实现 implementation 接口内部的东西\n",
    "\n",
    "#封装 设计一个高性能的implementation 和简单的interface，使得别人能快速上手**\n",
    "\n",
    "#继承"
   ]
  }
 ],
 "metadata": {
  "kernelspec": {
   "display_name": "tensorflow_env",
   "language": "python",
   "name": "tensorflow-env"
  },
  "language_info": {
   "codemirror_mode": {
    "name": "ipython",
    "version": 3
   },
   "file_extension": ".py",
   "mimetype": "text/x-python",
   "name": "python",
   "nbconvert_exporter": "python",
   "pygments_lexer": "ipython3",
   "version": "3.7.7"
  }
 },
 "nbformat": 4,
 "nbformat_minor": 4
}

{
 "cells": [
  {
   "cell_type": "markdown",
   "metadata": {},
   "source": [
    "## property()函数\n",
    "*******************************\n",
    "### 诞生原因：    希望使用*类对象.属性*的方式操作类中的属性\n",
    "\n",
    "我们一直在用“类对象.属性”的方式访问类中定义的属性  其实这种做法是欠妥的，因为它破坏了类的封装原则。\n",
    "\n",
    "正常情况下，类包含的属性应该是**隐藏**的，只允许通过类提供的**方法**来间接实现对类属性的**访问**和操作\n",
    "\n",
    "因此，在不破坏类封装原则的基础上，为了能够有效**操作属性**，类中应包含读（或写）类属性的多个 getter（或 setter）方法，这样就可以通过“类对象.方法(参数)”的方式操作属性\n",
    "\n",
    "Python 中提供了 property() 函数，可以实现在不破坏类封装原则的前提下，让开发者依旧使用**“类对象.属性”**的方式操作类中的**属性**\n",
    "\n",
    "###  描述\n",
    "\n",
    "property() 函数的作用是在新式类中返回属性值\n",
    "\n",
    "维护数据的一致性\n",
    "\n",
    "### 语法\n",
    "\n",
    "`属性名=property(fget=None, fset=None, fdel=None, doc=None)`\n",
    "\n",
    "### 参数\n",
    "\n",
    "fget -- 获取属性值的函数  \n",
    "fset -- 设置属性值的函数  \n",
    "fdel -- 删除属性值函数  \n",
    "doc -- 属性描述信息  \n",
    "\n",
    "### 返回值\n",
    "\n",
    "新式类属性"
   ]
  },
  {
   "cell_type": "markdown",
   "metadata": {},
   "source": [
    "### 实例"
   ]
  },
  {
   "cell_type": "code",
   "execution_count": 8,
   "metadata": {},
   "outputs": [
    {
     "data": {
      "text/plain": [
       "2"
      ]
     },
     "execution_count": 8,
     "metadata": {},
     "output_type": "execute_result"
    }
   ],
   "source": [
    "class C():\n",
    "    def __init__(self):\n",
    "        self._x = None\n",
    "\n",
    "    def getx(self):\n",
    "        return self._x\n",
    "\n",
    "    def setx(self, value):\n",
    "        self._x = value\n",
    "\n",
    "    def delx(self):\n",
    "        del self._x\n",
    "\n",
    "    x = property(getx, setx, delx, \"I'm the 'x' property.\")\n",
    "c =C()\n",
    "c.x = 2"
   ]
  },
  {
   "cell_type": "markdown",
   "metadata": {},
   "source": [
    "如果 c 是 C 的实例化\n",
    "\n",
    "c.x 将触发 getter\n",
    "\n",
    "c.x = value 将触发 setter\n",
    "\n",
    "del c.x 触发 deleter。\n",
    "\n",
    "如果给定 doc 参数，其将成为这个属性值的 docstring，否则 property 函数就会复制 fget 函数的 docstring（如果有的话）。"
   ]
  },
  {
   "cell_type": "markdown",
   "metadata": {},
   "source": [
    "### 实例2\n",
    "```\n",
    "class A:\n",
    "    def __init__(self):\n",
    "        pass\n",
    "    def setx(self,x):\n",
    "        pass\n",
    "    def getx(self):\n",
    "        return(self.)\n",
    "    x = property(getx,setx)\n",
    "```\n",
    "\n",
    "x是类属性, 但赋值了property函数\n",
    "\n",
    "`a.x = `**就是函数的执行命令**  \n",
    "所接受的值将赋给x,触发 `setx(self,x)`,x的值传递到函数里\n",
    "\n",
    "`a.x`  \n",
    "触发`getx(self)`，返回实例的属性值"
   ]
  },
  {
   "cell_type": "code",
   "execution_count": 1,
   "metadata": {},
   "outputs": [
    {
     "name": "stdout",
     "output_type": "stream",
     "text": [
      "setSize():i worked like a common property, but actually, i am a method\n",
      "getSize():i am method too.\n",
      "rect: (12, 2) Area: 24\n",
      "getSize():i am method too.\n"
     ]
    },
    {
     "data": {
      "text/plain": [
       "(12, 2)"
      ]
     },
     "execution_count": 1,
     "metadata": {},
     "output_type": "execute_result"
    }
   ],
   "source": [
    "class Rect:\n",
    "    def __init__(self):\n",
    "        self.width = 0\n",
    "        self.height = 0\n",
    "        self.area = self.height*self.width\n",
    "    \n",
    "#     def setWidth（self,w):\n",
    "#         self.width = w 不妥，此时修改了width但是前面算面积的width没有变，内部矛盾\n",
    "    def setSize(self, size):#执行r0.size = 12,2时激发。将类属性size=(12,2)传递进来\n",
    "        self.width,self.height = size #size是个容器，是个元组或者列表\n",
    "        self.area  = self.width * self.height\n",
    "        print('setSize():i worked like a common property, but actually, i am a method')\n",
    "    \n",
    "    def getSize(self):#执行r0.size时激发\n",
    "        print('getSize():i am method too.')\n",
    "        return (self.width,self.height) #返回的是元组\n",
    "    \n",
    "    size = property(getSize,setSize)#size是类属性，不是对象的属性\n",
    "\n",
    "r0 = Rect()\n",
    "r0.size = 12,2#\n",
    "print('rect:',r0.size,\"Area:\",r0.area)\n",
    "r0.size"
   ]
  }
 ],
 "metadata": {
  "kernelspec": {
   "display_name": "tensorflow_env",
   "language": "python",
   "name": "tensorflow-env"
  },
  "language_info": {
   "codemirror_mode": {
    "name": "ipython",
    "version": 3
   },
   "file_extension": ".py",
   "mimetype": "text/x-python",
   "name": "python",
   "nbconvert_exporter": "python",
   "pygments_lexer": "ipython3",
   "version": "3.7.7"
  }
 },
 "nbformat": 4,
 "nbformat_minor": 4
}

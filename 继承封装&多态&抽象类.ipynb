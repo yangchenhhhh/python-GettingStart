{
 "cells": [
  {
   "cell_type": "markdown",
   "metadata": {},
   "source": [
    "# 继承封装"
   ]
  },
  {
   "cell_type": "code",
   "execution_count": 101,
   "metadata": {},
   "outputs": [],
   "source": [
    "#复用\n",
    "\n",
    "#接口 interface 只需要考虑接口，接口内部不需要考虑\n",
    "#实现 implementation 接口内部的东西\n",
    "\n",
    "#封装 设计一个高性能的implementation 和简单的interface，使得别人能快速上手**\n",
    "\n",
    "#继承"
   ]
  },
  {
   "cell_type": "markdown",
   "metadata": {},
   "source": [
    "## 继承"
   ]
  },
  {
   "cell_type": "code",
   "execution_count": 4,
   "metadata": {},
   "outputs": [
    {
     "name": "stdout",
     "output_type": "stream",
     "text": [
      "i am a student\n",
      "person::speak():\n",
      "i am yangchen, nice to meet you\n",
      "employee::speak():\n",
      "i am happy to work for you\n",
      "3180101\n"
     ]
    }
   ],
   "source": [
    "from person import person, gender \n",
    "class employee(person):#从person继承已有的成果\n",
    "    def __init__(self,emplno,idno,name):\n",
    "        super(employee,self).__init__(idno,name)#super上一级，实现父类person的构造函数‘__int__‘那个\n",
    "        #等价于 person.__int__(self,idno,name)\n",
    "        #接下来描述不同的地方\n",
    "        self.semployeeno = emplno\n",
    "        self.sjobtitle = ''\n",
    "        self.sdepartment = ''\n",
    "        self.weeksalary = 0\n",
    "    def work(self):\n",
    "        print('i am a',self.sjobtitle)\n",
    "    def speak(self):\n",
    "        super().speak()#调用父辈的speak方法\n",
    "        print('employee::speak():')\n",
    "        print('i am happy to work for you')\n",
    "\n",
    "#实例化employee\n",
    "yangchen=employee('3180101','330327','yangchen')\n",
    "yangchen.gender = gender.male\n",
    "yangchen.sdepartment = 'study'\n",
    "yangchen.sjobtitle = 'student'\n",
    "yangchen.weeksalary = 2000\n",
    "\n",
    "#employee 杨晨 动作\n",
    "yangchen.work()#使用函数def work(self):，但是没有给self，yangchen就是隐含的self\n",
    "yangchen.speak()\n",
    "print(yangchen.semployeeno)"
   ]
  },
  {
   "cell_type": "markdown",
   "metadata": {},
   "source": [
    "## 多态 polymorphism & 抽象类 abstract class\n",
    "## ppt内部结构为例"
   ]
  },
  {
   "cell_type": "markdown",
   "metadata": {},
   "source": [
    "### 抽象类"
   ]
  },
  {
   "cell_type": "code",
   "execution_count": 5,
   "metadata": {},
   "outputs": [],
   "source": [
    "from abc import ABC,abstractmethod #Abstract Base Classes\n",
    "class shape(ABC):\n",
    "    @abstractmethod\n",
    "    def draw(self):\n",
    "        pass\n",
    "    @abstractmethod\n",
    "    def getSize(self):\n",
    "        pass\n",
    "#@abstractmethod代表shape是基类，抽象类，无法被实例化\n",
    "#a = shape(%%javascript将会提示：Can't instantiate abstract class shape with abstract methods draw, getSize\n",
    "\n",
    "class triangle(shape):#triangle从shape继承\n",
    "    def __int__(self):\n",
    "        self.point0 = (0,0)\n",
    "        self.point1 = (1,1)\n",
    "        self.point2 = (0,1)\n",
    "    \n",
    "    def draw(self):#自己画自己\n",
    "        print('triangle::draw')\n",
    "    \n",
    "    def getSize(self):\n",
    "        pass #detail omitted内容重载了，但是pass不执行\n",
    "    \n",
    "    def getArea(self):\n",
    "        return 0\n",
    "\n",
    "class circle(shape):#triangle从shape继承\n",
    "    def __int__(self):\n",
    "        self.ptCenter = (0,0)\n",
    "        self.iRadius = 0\n",
    "    \n",
    "    def draw(self):\n",
    "        print('circle::draw')\n",
    "    \n",
    "    def getSize(self):\n",
    "        pass #detail omitted内容重载了，但是pass不执行\n",
    "    \n",
    "    def getArea(self):\n",
    "        return 0\n",
    "\n",
    "#实例化类\n",
    "t1 = triangle()\n",
    "t2 = triangle()\n",
    "c1 = circle()\n",
    "c2 = circle()"
   ]
  },
  {
   "cell_type": "code",
   "execution_count": 102,
   "metadata": {},
   "outputs": [],
   "source": [
    "#pptx模拟一个ppt，将界面元素组织在列表中\n",
    "pptx = [t1,t2,c1,c2]"
   ]
  },
  {
   "cell_type": "markdown",
   "metadata": {},
   "source": [
    "#### 错误的遍历元素，全部画出\n",
    "假如借助**外部方法**画出pptx中的所有元素，每个类型都要画，利用for循环   \n",
    "而且外部程序必须得要先知道pptx内部所有的**数据结构**，违反隐藏内部原则  \n",
    "```\n",
    "for x in pptx:\n",
    "        if __name__ == '__main__':\n",
    "            if type(x) == traingle:\n",
    "                drawline(x.point0,x.point1)\n",
    "            elif type(x) == circle:\n",
    "                drawcircle()\n",
    "            elif\n",
    "            #...\n",
    "```"
   ]
  },
  {
   "cell_type": "markdown",
   "metadata": {},
   "source": [
    "#### 正确的遍历元素，全部画出\n",
    "前面在定义triangle和circle类型时，内置了draw函数，可以**自己画自己**，因此draw是对象的一个对自己的动作，使用x.draw()就可以实现画自己  \n",
    "\n",
    "和上面错误的方法比较，x.draw就是一个**interface**，implementation都在内部解决，外部不需要明白原理"
   ]
  },
  {
   "cell_type": "code",
   "execution_count": 7,
   "metadata": {},
   "outputs": [
    {
     "name": "stdout",
     "output_type": "stream",
     "text": [
      "triangle::draw\n",
      "triangle::draw\n",
      "circle::draw\n",
      "circle::draw\n"
     ]
    }
   ],
   "source": [
    "def renderDocument(pptx):\n",
    "    for x in pptx:\n",
    "        x.draw()\n",
    "renderDocument(pptx)"
   ]
  },
  {
   "cell_type": "markdown",
   "metadata": {},
   "source": [
    "### 多态\n",
    "上面的`pptx = [t1,t2,c1,c2]`就称为多态。\n",
    "\n",
    "pptx列表里的t1,c1...，并**不知道**他们是什么类型，比如t1是triangle类，c1是circle类。  \n",
    "但是把他们当作shape类型来用，**好像**执行shape.triangle()（实际shape是抽象类无法执行）\n",
    "\n",
    "具体到执行动作时，每一个x,又会执行**各自**类的draw（）\n",
    "```\n",
    "def renderDocument(pptx):\n",
    "    for x in pptx:\n",
    "        x.draw()\n",
    "renderDocument(pptx)\n",
    "```\n",
    "\n",
    "#### 多态的优点\n",
    "假如需要增添rectangle类，和circle、triangle并列。  \n",
    "\n",
    "再执行遍历元素全部画出图形\n",
    "```\n",
    "pptx = [t1,t2,c1,c2]\n",
    "def renderDocument(pptx):\n",
    "    for x in pptx:\n",
    "        x.draw()\n",
    "renderDocument(pptx)\n",
    "```\n",
    "只需要增加如下部分` r1 = rectangle(), pptx = [t1,t2,c1,c2,r1]`\n",
    "\n",
    "#### 总结\n",
    "多态的好处就是，当我们需要传入更多的子类，例如新增 rectangle 等时，我们只需要继承 shape 类型就可以了，而draw（）方法既可以直不重写（即使用shape的），也可以重写一个特有的。这就是多态的意思。\n",
    "\n",
    "调用方只管调用，不管细节，而当我们新增一种shape的子类时，只要确保新方法编写正确，而不用管原来的代码。这就是著名的**“开闭”原则**：\n",
    "\n",
    "    对扩展开放（Open for extension）：允许子类重写方法函数\n",
    "    对修改封闭（Closed for modification）：不重写，直接继承父类方法函数"
   ]
  },
  {
   "cell_type": "markdown",
   "metadata": {},
   "source": [
    "## 多重继承"
   ]
  },
  {
   "cell_type": "markdown",
   "metadata": {},
   "source": [
    "**这是一个套娃**  \n",
    "首先看`def __init__(self):`，当实例化D时，首先执行初始化里的`super(D,self).__init__()`,等价于`C.__init__()`  \n",
    "`C.__init__()`  将执行` print('C is init')`和`super(C,self).__init__()`，又等价于`B.__init__()`  \n",
    "...最终D的`def __init__(self):`执行ABCD全部的`def __init__(self)`\n",
    "\n",
    "而且D继承了ABCD所有的方法，method1,2,3,4\n",
    "*************************************\n",
    "\n",
    "**几个与继承链有关的方法和属性**  \n",
    "`issubclass(D,A)`\n",
    "`D.__bases__`\n",
    "`isinstance(d,D)`\n",
    "`d.__class__`"
   ]
  },
  {
   "cell_type": "code",
   "execution_count": 103,
   "metadata": {},
   "outputs": [
    {
     "name": "stdout",
     "output_type": "stream",
     "text": [
      "A is init\n",
      "B is init\n",
      "C is init\n",
      "D is init\n",
      "True\n",
      "(<class '__main__.C'>,)\n",
      "True\n",
      "<class '__main__.D'>\n"
     ]
    }
   ],
   "source": [
    "class A:\n",
    "    def __init__(self):\n",
    "        print('A is init')\n",
    "    def method1(self):\n",
    "        print('method 1 ok')\n",
    "\n",
    "class B(A):\n",
    "    def __init__(self):\n",
    "        super(B,self).__init__()\n",
    "        print('B is init')\n",
    "    def method2(self):\n",
    "        print('method 2 ok')\n",
    "\n",
    "class C(B):\n",
    "    def __init__(self):\n",
    "        super(C,self).__init__()\n",
    "        print('C is init')\n",
    "    def method3(self):\n",
    "        print('method 3 ok')\n",
    "\n",
    "class D(C):\n",
    "    def __init__(self):\n",
    "        super(D,self).__init__()\n",
    "        print('D is init')\n",
    "    def method4(self):\n",
    "        print('method 4 ok')\n",
    "\n",
    "d= D()\n",
    "print(issubclass(D,A))#判断D是不是A的子类\n",
    "print(D.__bases__)#加两个下划线是系统的，特殊定义，自己不要用。可以查D的父类是什么\n",
    "print(isinstance(d,D))#d是不是D的实例\n",
    "print(d.__class__)"
   ]
  },
  {
   "cell_type": "markdown",
   "metadata": {},
   "source": [
    "## 方法的隐藏\n",
    "方法的前面加'__'外部无法访问  \n",
    "eg.假如执行 `hid.privateMethod()`,将会提示`AttributeError: 'hidden' object has no attribute 'privateMethod'`\n",
    "\n",
    "but类内部是可以访问的  \n",
    "eg.假如执行`hid.publicMethod()`将会得到`\n",
    "this method should not be called outside`"
   ]
  },
  {
   "cell_type": "code",
   "execution_count": 108,
   "metadata": {},
   "outputs": [
    {
     "name": "stdout",
     "output_type": "stream",
     "text": [
      "this method should not be called outside\n"
     ]
    }
   ],
   "source": [
    "class hidden:\n",
    "    'this class will show you the private method'\n",
    "    def __init__(self):\n",
    "        pass\n",
    "    def __privateMethod(self):\n",
    "        print('this method should not be called outside')\n",
    "    def publicMthod(self):\n",
    "        self.__privateMethod()\n",
    "hid = hidden()\n",
    "hid.publicMthod()"
   ]
  }
 ],
 "metadata": {
  "kernelspec": {
   "display_name": "tensorflow_env",
   "language": "python",
   "name": "tensorflow-env"
  },
  "language_info": {
   "codemirror_mode": {
    "name": "ipython",
    "version": 3
   },
   "file_extension": ".py",
   "mimetype": "text/x-python",
   "name": "python",
   "nbconvert_exporter": "python",
   "pygments_lexer": "ipython3",
   "version": "3.7.7"
  }
 },
 "nbformat": 4,
 "nbformat_minor": 4
}

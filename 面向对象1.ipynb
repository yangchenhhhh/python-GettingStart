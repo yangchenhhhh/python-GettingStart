{
 "cells": [
  {
   "cell_type": "markdown",
   "metadata": {},
   "source": [
    "# 继承封装"
   ]
  },
  {
   "cell_type": "code",
   "execution_count": 1,
   "metadata": {},
   "outputs": [],
   "source": [
    "#复用\n",
    "\n",
    "#接口 interface 只需要考虑接口，接口内部不需要考虑\n",
    "#实现 implementation 接口内部的东西\n",
    "\n",
    "#封装 设计一个高性能的implementation 和简单的interface，使得别人能快速上手**\n",
    "\n",
    "#继承"
   ]
  },
  {
   "cell_type": "markdown",
   "metadata": {},
   "source": [
    "## 继承"
   ]
  },
  {
   "cell_type": "code",
   "execution_count": 11,
   "metadata": {},
   "outputs": [
    {
     "name": "stdout",
     "output_type": "stream",
     "text": [
      "i am a student\n",
      "person::speak():\n",
      "i am yangchen, nice to meet you\n",
      "employee::speak():\n",
      "i am happy to work for you\n",
      "3180101\n"
     ]
    }
   ],
   "source": [
    "from person import person, gender \n",
    "class employee(person):#从person继承已有的成果\n",
    "    def __init__(self,emplno,idno,name):\n",
    "        super(employee,self).__init__(idno,name)#super上一级，实现父类person的构造函数‘__int__‘那个\n",
    "        #等价于 person.__int__(self,idno,name)\n",
    "        #接下来描述不同的地方\n",
    "        self.semployeeno = emplno\n",
    "        self.sjobtitle = ''\n",
    "        self.sdepartment = ''\n",
    "        self.weeksalary = 0\n",
    "    def work(self):\n",
    "        print('i am a',self.sjobtitle)\n",
    "    def speak(self):\n",
    "        super().speak()#调用父辈的speak方法\n",
    "        print('employee::speak():')\n",
    "        print('i am happy to work for you')\n",
    "\n",
    "#实例化employee\n",
    "yangchen=employee('3180101','330327','yangchen')\n",
    "yangchen.gender = gender.male\n",
    "yangchen.sdepartment = 'study'\n",
    "yangchen.sjobtitle = 'student'\n",
    "yangchen.weeksalary = 2000\n",
    "\n",
    "#employee 杨晨 动作\n",
    "yangchen.work()#使用函数def work(self):，但是没有给self，yangchen就是隐含的self\n",
    "yangchen.speak()\n",
    "print(yangchen.semployeeno)"
   ]
  },
  {
   "cell_type": "markdown",
   "metadata": {},
   "source": [
    "## 多态 polymorphism & 抽象类 abstract class\n",
    "## ppt内部结构为例"
   ]
  },
  {
   "cell_type": "markdown",
   "metadata": {},
   "source": [
    "创建抽象类&抽象类的继承，可实例化"
   ]
  },
  {
   "cell_type": "code",
   "execution_count": 14,
   "metadata": {},
   "outputs": [],
   "source": [
    "from abc import ABC,abstractmethod #Abstract Base Classes\n",
    "class shape(ABC):\n",
    "    @abstractmethod\n",
    "    def draw(self):\n",
    "        pass\n",
    "    @abstractmethod\n",
    "    def getSize(self):\n",
    "        pass\n",
    "#@abstractmethod代表shape是基类，抽象类，无法被实例化\n",
    "#a = shape(%%javascript将会提示：Can't instantiate abstract class shape with abstract methods draw, getSize\n",
    "\n",
    "class triangle(shape):#triangle从shape继承\n",
    "    def __int__(self):\n",
    "        self.point0 = (0,0)\n",
    "        self.point1 = (1,1)\n",
    "        self.point2 = (0,1)\n",
    "    \n",
    "    def draw(self):#自己画自己\n",
    "        print('triangle::draw')\n",
    "    \n",
    "    def getSize(self):\n",
    "        pass #detail omitted内容重载了，但是pass不执行\n",
    "    \n",
    "    def getArea(self):\n",
    "        return 0\n",
    "\n",
    "class circle(shape):#triangle从shape继承\n",
    "    def __int__(self):\n",
    "        self.ptCenter = (0,0)\n",
    "        self.iRadius = 0\n",
    "    \n",
    "    def draw(self):\n",
    "        print('circle::draw')\n",
    "    \n",
    "    def getSize(self):\n",
    "        pass #detail omitted内容重载了，但是pass不执行\n",
    "    \n",
    "    def getArea(self):\n",
    "        return 0\n",
    "\n",
    "#实例化类\n",
    "t1 = triangle()\n",
    "t2 = triangle()\n",
    "c1 = circle()\n",
    "c2 = circle()\n",
    "\n",
    "#pptx模拟一个ppt，将界面元素组织在列表中\n",
    "pptx = [t1,t2,c1,c2]"
   ]
  },
  {
   "cell_type": "markdown",
   "metadata": {},
   "source": [
    "#### 错误的遍历元素，全部画出\n",
    "假如借助**外部方法**画出pptx中的所有元素，每个类型都要画，利用for循环   \n",
    "而且外部程序必须得要先知道pptx内部所有的**数据结构**，违反隐藏内部原则  \n",
    "```\n",
    "for x in pptx:\n",
    "        if __name__ == '__main__':\n",
    "            if type(x) == traingle:\n",
    "                drawline(x.point0,x.point1)\n",
    "            elif type(x) == circle:\n",
    "                drawcircle()\n",
    "            elif\n",
    "            #...\n",
    "```"
   ]
  },
  {
   "cell_type": "markdown",
   "metadata": {},
   "source": [
    "#### 正确的遍历元素，全部画出\n",
    "前面在定义triangle和circle类型时，内置了draw函数，可以**自己画自己**，因此draw是对象的一个对自己的动作，使用x.draw()就可以实现画自己  \n",
    "和上面错误的方法比较，x.draw就是一个**interface**，implementation都在内部解决，外部不需要明白原理"
   ]
  },
  {
   "cell_type": "code",
   "execution_count": 15,
   "metadata": {},
   "outputs": [
    {
     "name": "stdout",
     "output_type": "stream",
     "text": [
      "triangle::draw\n",
      "triangle::draw\n",
      "circle::draw\n",
      "circle::draw\n"
     ]
    }
   ],
   "source": [
    "def renderDocument(pptx):\n",
    "    for x in pptx:\n",
    "        x.draw()\n",
    "renderDocument(pptx)"
   ]
  }
 ],
 "metadata": {
  "kernelspec": {
   "display_name": "tensorflow_env",
   "language": "python",
   "name": "tensorflow-env"
  },
  "language_info": {
   "codemirror_mode": {
    "name": "ipython",
    "version": 3
   },
   "file_extension": ".py",
   "mimetype": "text/x-python",
   "name": "python",
   "nbconvert_exporter": "python",
   "pygments_lexer": "ipython3",
   "version": "3.7.7"
  }
 },
 "nbformat": 4,
 "nbformat_minor": 4
}

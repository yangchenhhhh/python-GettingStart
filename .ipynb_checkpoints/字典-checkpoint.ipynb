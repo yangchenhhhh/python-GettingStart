{
 "cells": [
  {
   "cell_type": "markdown",
   "metadata": {},
   "source": [
    "## 字典 dict  用的好闪电提速\n",
    "\n",
    "### 优点\n",
    "\n",
    "通过哈希Hash算法，提高搜索能力。因此明显优于for循环\n",
    "\n",
    "### 顺序？\n",
    "\n",
    "每个键值对存储在hash值，地址里。没有顺序。\n",
    "\n",
    "因此无法使用下标访问\n",
    "\n",
    "### dict操作\n",
    "\n",
    "|操作语法|功能|\n",
    "|:----|:----|\n",
    "|`dict_name = dict(key1 = value1,key2 = value2,...)`|创建字典|\n",
    "|`dict_name[key]=value`|往dict添加key-value|\n",
    "|`dict_name[key]`|返回key对应的value|\n",
    "|`del dict_name[key]`|删除字典中的key-value|\n",
    "|`key_name in dict_name`|返回布尔值，判断key是否在dict中，只能查找key不能查找value|\n",
    "\n",
    "### dict成员函数\n",
    "\n",
    "|成员函数|功能|\n",
    "|:----|:----|\n",
    "|`{}.copy()`|复制|\n",
    "|`{}.fromkeys(iterable(可遍历的）, value=None, /)`|以iterable元素为key，指定value创建dict|\n",
    "|`{}.get(key_name)`|查找key返回对应的value，如果没有key则自动创建value=None|\n",
    "|`{}.get(key_name,value)`|添加key-value并且返回value|\n",
    "|`{}.items(),,,{}.keys(),,,{}.values()`|返回可遍历的(key,value)\\key\\value数组,无顺序但可遍历|\n"
   ]
  },
  {
   "cell_type": "markdown",
   "metadata": {},
   "source": [
    "### 定义法创建\n",
    "`\n",
    "dict = {key : value(object),key : value(object),....}`\n",
    "\n",
    "**key**：必须是**可哈希类型**，因为哈希算法必须知道如何把键的值转化为散列分布的整数\n",
    "\n",
    "|类型|特点|包括\n",
    "|:----|:----|:----:|\n",
    "|可哈希类型|只读|int，float，str，tuple|\n",
    "|不可哈希类型|可修改|dict， list|\n",
    "\n",
    "**value**：值可以是任意对象（包括字典构成嵌套）"
   ]
  },
  {
   "cell_type": "code",
   "execution_count": 102,
   "metadata": {},
   "outputs": [
    {
     "name": "stdout",
     "output_type": "stream",
     "text": [
      "{'A': '1111-2222', 'B': '2222-3333', 'C': '3333-4444', 'D': '4444-5555', 'E': '5555-6666'}\n"
     ]
    }
   ],
   "source": [
    "#创建：\n",
    "phonebook = {'A':'1111-2222','B':'2222-3333','C':'3333-4444','D':'4444-5555'}\n",
    "\n",
    "#填加\n",
    "phonebook['E']='5555-6666'\n",
    "\n",
    "#打印\n",
    "print(phonebook)"
   ]
  },
  {
   "cell_type": "markdown",
   "metadata": {},
   "source": [
    "### dict函数 创建"
   ]
  },
  {
   "cell_type": "code",
   "execution_count": 103,
   "metadata": {},
   "outputs": [
    {
     "data": {
      "text/plain": [
       "{'name': 'dorothy', 'id': '1003', 'age': 26}"
      ]
     },
     "execution_count": 103,
     "metadata": {},
     "output_type": "execute_result"
    }
   ],
   "source": [
    "dorothy = dict(name='dorothy',id='1003',age=26)\n",
    "dorothy\n"
   ]
  },
  {
   "cell_type": "markdown",
   "metadata": {},
   "source": [
    "### dict操作\n",
    "\n",
    "|操作语法|功能|\n",
    "|:----|:----|\n",
    "|dict_name = dict(key1 = value1,key2 = value2,...)|创建字典|\n",
    "|dict_name[key]=value|往dict添加key-value|\n",
    "|dict_name[key]|返回key对应的value|\n",
    "|del dict_name[key]|删除字典中的key-value|\n",
    "|key_name in dict_name|返回布尔值，判断key是否在dict中，只能查找key不能查找value|"
   ]
  },
  {
   "cell_type": "code",
   "execution_count": 104,
   "metadata": {},
   "outputs": [
    {
     "name": "stdout",
     "output_type": "stream",
     "text": [
      "dorothy\n",
      "True\n",
      "{'name': 'dorothy', 'age': 26, 'gender': 'female'}\n"
     ]
    }
   ],
   "source": [
    "print(dorothy['name'])\n",
    "dorothy['gender']='female'\n",
    "del dorothy['id']\n",
    "print('name' in dorothy)\n",
    "print(dorothy)"
   ]
  },
  {
   "cell_type": "markdown",
   "metadata": {},
   "source": [
    "### dict成员函数\n",
    "\n",
    "|成员函数|功能|\n",
    "|:----|:----|\n",
    "|{}.copy()|复制|\n",
    "|{}.fromkeys(iterable(可遍历的）, value=None, /)|以iterable元素为key，指定value创建dict|\n",
    "|{}.get(key_name)|查找key返回对应的value，如果没有key则自动创建value=None|\n",
    "|{}.get(key_name,value)|添加key-value并且返回value|\n",
    "|{}.items(),,,{}.keys(),,,{}.values()|返回可遍历的(key,value)\\key\\value数组,无顺序但可遍历|\n"
   ]
  },
  {
   "cell_type": "code",
   "execution_count": 107,
   "metadata": {},
   "outputs": [
    {
     "name": "stdout",
     "output_type": "stream",
     "text": [
      "dorothy  dorothyCopy: {'name': 'dorothy', 'age': 26, 'gender': 'female'} / {'name': 'dorothy', 'age': 26, 'gender': 'female'}\n",
      "d1[1]  d[1]: unknow / unknow\n",
      "dorothyCopysName: dorothy\n",
      "dorothyCopysSalary: 1000\n"
     ]
    }
   ],
   "source": [
    "#复制\n",
    "dorothyCopy = dorothy.copy()\n",
    "print('dorothy  dorothyCopy:',dorothy,'/',dorothyCopy)\n",
    "\n",
    "#可遍历中创建\n",
    "#直接调用dict的函数\n",
    "d= dict.fromkeys(range(5),'unknow')\n",
    "#告诉解释器，字典{}有个成员函数fromkeys。我调用了他来创建一个新的字典赋值给d1.原本的{}不发生改变\n",
    "d1={}.fromkeys(range(5),'unknow')\n",
    "print('d1[1]  d[1]:',d1[1],'/',d[1])\n",
    "\n",
    "#调用加创建\n",
    "print('dorothyCopysName:',dorothyCopy.get('name'))\n",
    "print('dorothyCopysSalary:',dorothyCopy.get('salary',1000))"
   ]
  },
  {
   "cell_type": "markdown",
   "metadata": {},
   "source": [
    "### 遍历"
   ]
  },
  {
   "cell_type": "code",
   "execution_count": 108,
   "metadata": {},
   "outputs": [
    {
     "name": "stdout",
     "output_type": "stream",
     "text": [
      "dorothyCopy: {'name': 'dorothy', 'age': 26, 'gender': 'female'}\n",
      "key: name,key: age,key: gender,\n",
      "\n",
      "keys: dict_keys(['name', 'age', 'gender'])\n",
      "type: <class 'dict_keys'>\n",
      "\n",
      "\n",
      "('name', 'dorothy')\n",
      "('age', 26)\n",
      "('gender', 'female')\n",
      "name - dorothy\n",
      "age - 26\n",
      "gender - female\n"
     ]
    }
   ],
   "source": [
    "print(\"dorothyCopy:\",dorothyCopy)\n",
    "\n",
    "#字典中遍历是在key里遍历\n",
    "for x in dorothyCopy: #x是键key\n",
    "    print('key:',x,end=',')\n",
    "print('\\n')\n",
    "\n",
    "#dict_name.keys()返回所有的key，类型是dict_keys\n",
    "print('keys:',dorothyCopy.keys())\n",
    "print('type:',type(dorothyCopy.keys()))\n",
    "print('\\n')\n",
    "\n",
    "#键值对中遍历,键值对类型是tuple\n",
    "for x in dorothyCopy.items():\n",
    "    print(x)\n",
    "    \n",
    "for key,value in dorothyCopy.items():#元组是一个序列，这是一个序列解包过程\n",
    "    print(key,'-',value)"
   ]
  }
 ],
 "metadata": {
  "kernelspec": {
   "display_name": "tensorflow_env",
   "language": "python",
   "name": "tensorflow-env"
  },
  "language_info": {
   "codemirror_mode": {
    "name": "ipython",
    "version": 3
   },
   "file_extension": ".py",
   "mimetype": "text/x-python",
   "name": "python",
   "nbconvert_exporter": "python",
   "pygments_lexer": "ipython3",
   "version": "3.7.7"
  }
 },
 "nbformat": 4,
 "nbformat_minor": 4
}
